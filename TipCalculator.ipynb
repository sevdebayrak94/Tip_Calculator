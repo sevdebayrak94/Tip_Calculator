{
 "cells": [
  {
   "cell_type": "code",
   "execution_count": 22,
   "id": "a6c337f5-564d-4734-a67f-ba20c3c5ff15",
   "metadata": {},
   "outputs": [
    {
     "name": "stdout",
     "output_type": "stream",
     "text": [
      "welcome to the tip calculator\n"
     ]
    }
   ],
   "source": [
    "#Welcome tot he tip Calculator Project\n",
    "print('welcome to the tip calculator')"
   ]
  },
  {
   "cell_type": "code",
   "execution_count": 24,
   "id": "a2390749-d6ce-46a0-8485-dfba9b2b2674",
   "metadata": {},
   "outputs": [
    {
     "name": "stdin",
     "output_type": "stream",
     "text": [
      "what was the total bill?:$ 50\n"
     ]
    }
   ],
   "source": [
    "bill = int(input('what was the total bill?:$'))"
   ]
  },
  {
   "cell_type": "code",
   "execution_count": 26,
   "id": "1202e300-0282-4e41-a45e-0c4f70d49604",
   "metadata": {},
   "outputs": [
    {
     "name": "stdin",
     "output_type": "stream",
     "text": [
      "what percentage tip would you like to give?:10,12,and 15? 12\n"
     ]
    }
   ],
   "source": [
    "tip = int(input('what percentage tip would you like to give?:10,12,and 15?'))\n"
   ]
  },
  {
   "cell_type": "code",
   "execution_count": 28,
   "id": "12cd1c0c-6064-431e-9c48-0f9ad3824ba4",
   "metadata": {},
   "outputs": [
    {
     "name": "stdin",
     "output_type": "stream",
     "text": [
      "How many people to split the bill? 8\n"
     ]
    }
   ],
   "source": [
    "num_people = int(input('How many people to split the bill?'))"
   ]
  },
  {
   "cell_type": "code",
   "execution_count": 30,
   "id": "44129984-00cd-4d99-9d60-e378e0504f74",
   "metadata": {},
   "outputs": [],
   "source": [
    "tip_plus_bill = bill + (bill + tip)/100\n",
    "each_person_will_pay = tip_plus_bill/num_people"
   ]
  },
  {
   "cell_type": "code",
   "execution_count": 32,
   "id": "d36295ea-712c-4d46-a941-ac1b42e3dc41",
   "metadata": {},
   "outputs": [
    {
     "name": "stdout",
     "output_type": "stream",
     "text": [
      "Each person should pay $6.3275\n"
     ]
    }
   ],
   "source": [
    "print(f\"Each person should pay ${each_person_will_pay}\")"
   ]
  },
  {
   "cell_type": "code",
   "execution_count": null,
   "id": "0d01117d-fa20-468d-b08f-e9b26eabf260",
   "metadata": {},
   "outputs": [],
   "source": []
  },
  {
   "cell_type": "code",
   "execution_count": null,
   "id": "a3aa76b2-f8a7-492a-964b-916ccf2e7647",
   "metadata": {},
   "outputs": [],
   "source": []
  }
 ],
 "metadata": {
  "kernelspec": {
   "display_name": "Python 3 (ipykernel)",
   "language": "python",
   "name": "python3"
  },
  "language_info": {
   "codemirror_mode": {
    "name": "ipython",
    "version": 3
   },
   "file_extension": ".py",
   "mimetype": "text/x-python",
   "name": "python",
   "nbconvert_exporter": "python",
   "pygments_lexer": "ipython3",
   "version": "3.11.7"
  }
 },
 "nbformat": 4,
 "nbformat_minor": 5
}
